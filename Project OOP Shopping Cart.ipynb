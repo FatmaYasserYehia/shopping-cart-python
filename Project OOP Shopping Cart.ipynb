{
 "cells": [
  {
   "cell_type": "markdown",
   "id": "33e3f0cd",
   "metadata": {},
   "source": [
    "# OOP Project\n",
    "Write a Python program to create a class representing a shopping cart. Include methods for adding and removing items, and calculating the total price.\n",
    "\n",
    "\n",
    "We define a ShoppingCart class representing a shopping cart. \n",
    "It has an attribute called items, which is initially an empty list.\n",
    "The \"add_item()\" method takes an item name and quantity as arguments and adds them as a tuple to the items list. \n",
    "This adds the item to the cart.\n",
    "The \"remove_item()\" method removes the first occurrence of an item with the specified name from the items list. \n",
    "It iterates over the list and checks if the current item's name matches the specified name. \n",
    "If a match is found, it removes the item from the list and breaks out of the loop.\n",
    "The \"calculate_total()\" method calculates and returns the total quantity of all items in the cart. \n",
    "It iterates over the items list and accumulates the quantity of each item.\n",
    "In the example usage section, we create an instance of the ShoppingCart class called cart. \n",
    "We add several items to the cart using the \"add_item()\" method and display the current items in the cart.\n",
    "We calculate and display the total quantity of items using the \"calculate_total()\" method.\n",
    "The \"remove_item()\" method is used to remove an item from the cart and then display the updated items.\n"
   ]
  },
  {
   "cell_type": "code",
   "execution_count": 26,
   "id": "dbd96dd0",
   "metadata": {},
   "outputs": [],
   "source": [
    "class ShoppingCart:\n",
    "    def __init__(self):\n",
    "        self.items=[]\n",
    "    def add_item(self,name,quantity):\n",
    "         self.items.append((name,quantity))\n",
    "    def remove_item(self,name):\n",
    "        for item in self.items:\n",
    "            if item[0]==name:\n",
    "                self.items.remove(item)\n",
    "                break\n",
    "\n",
    "    def calculate_total(self):\n",
    "         total=0\n",
    "         for item in self.items:\n",
    "             total+=item[1]\n",
    "         return total"
   ]
  },
  {
   "cell_type": "code",
   "execution_count": 27,
   "id": "9771d7f5",
   "metadata": {},
   "outputs": [
    {
     "name": "stdout",
     "output_type": "stream",
     "text": [
      "your cart:  [('banana', 8), ('apple', 10), ('orange', 5)]\n",
      "total quantity:  23\n",
      "your cart:  [('banana', 8), ('apple', 10)]\n",
      "total quantity:  18\n"
     ]
    }
   ],
   "source": [
    "cart=ShoppingCart()\n",
    "cart.add_item(\"banana\",8)\n",
    "cart.add_item(\"apple\",10)\n",
    "cart.add_item(\"orange\",5)\n",
    "print(\"your cart: \",cart.items)\n",
    "print(\"total quantity: \",cart.calculate_total())\n",
    "cart.remove_item(\"orange\")\n",
    "print(\"your cart: \",cart.items)\n",
    "print(\"total quantity: \",cart.calculate_total())\n",
    "\n"
   ]
  },
  {
   "cell_type": "code",
   "execution_count": null,
   "id": "fe7815fb",
   "metadata": {},
   "outputs": [],
   "source": []
  }
 ],
 "metadata": {
  "kernelspec": {
   "display_name": "Python 3 (ipykernel)",
   "language": "python",
   "name": "python3"
  },
  "language_info": {
   "codemirror_mode": {
    "name": "ipython",
    "version": 3
   },
   "file_extension": ".py",
   "mimetype": "text/x-python",
   "name": "python",
   "nbconvert_exporter": "python",
   "pygments_lexer": "ipython3",
   "version": "3.11.7"
  }
 },
 "nbformat": 4,
 "nbformat_minor": 5
}
